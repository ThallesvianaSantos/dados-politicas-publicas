{
  "cells": [
    {
      "cell_type": "markdown",
      "metadata": {},
      "source": [
        "# An\u00e1lise de Indicadores Sociais\n",
        "\n",
        "Este notebook tem como objetivo apresentar uma an\u00e1lise explorat\u00f3ria de dados simulados sobre **acesso \u00e0 educa\u00e7\u00e3o b\u00e1sica por regi\u00e3o**. Os dados foram inspirados em estruturas comuns do IBGE/SIDRA.\n",
        "\n",
        "**Objetivos:**\n",
        "- Apresentar indicadores de acesso \u00e0 escola por faixa et\u00e1ria.\n",
        "- Criar visualiza\u00e7\u00f5es simples com Python.\n",
        "- Demonstrar organiza\u00e7\u00e3o e comunica\u00e7\u00e3o t\u00e9cnica de dados sociais."
      ]
    },
    {
      "cell_type": "code",
      "execution_count": null,
      "metadata": {},
      "outputs": [],
      "source": [
        "# Bibliotecas\n",
        "import pandas as pd\n",
        "import matplotlib.pyplot as plt\n",
        "%matplotlib inline"
      ]
    },
    {
      "cell_type": "code",
      "execution_count": null,
      "metadata": {},
      "outputs": [],
      "source": [
        "# Dados simulados (por regi\u00e3o)\n",
        "dados = {\n",
        "    'Regi\u00e3o': ['Sudeste', 'Nordeste', 'Sul', 'Centro-Oeste', 'Norte'],\n",
        "    'Percentual com acesso \u00e0 escola (6-14 anos)': [98, 93, 97, 96, 91]\n",
        "}\n",
        "\n",
        "df = pd.DataFrame(dados)\n",
        "df"
      ]
    },
    {
      "cell_type": "code",
      "execution_count": null,
      "metadata": {},
      "outputs": [],
      "source": [
        "# Gr\u00e1fico de barras\n",
        "plt.figure(figsize=(8, 5))\n",
        "plt.bar(df['Regi\u00e3o'], df['Percentual com acesso \u00e0 escola (6-14 anos)'], color='steelblue')\n",
        "plt.title('Acesso \u00e0 Escola por Regi\u00e3o (idade 6-14 anos)')\n",
        "plt.ylabel('Percentual (%)')\n",
        "plt.ylim(85, 100)\n",
        "plt.grid(axis='y', linestyle='--', alpha=0.7)\n",
        "plt.tight_layout()\n",
        "plt.show()"
      ]
    },
    {
      "cell_type": "markdown",
      "metadata": {},
      "source": [
        "### Conclus\u00f5es\n",
        "\n",
        "- O Sudeste apresenta o maior \u00edndice de acesso (98%).\n",
        "- As regi\u00f5es Norte e Nordeste ainda apresentam desigualdade no acesso escolar.\n",
        "- Esse tipo de an\u00e1lise pode ajudar na defini\u00e7\u00e3o de pol\u00edticas p\u00fablicas mais direcionadas."
      ]
    }
  ],
  "metadata": {
    "kernelspec": {
      "display_name": "Python 3",
      "language": "python",
      "name": "python3"
    },
    "language_info": {
      "name": "python",
      "version": "3.8"
    }
  },
  "nbformat": 4,
  "nbformat_minor": 4
}